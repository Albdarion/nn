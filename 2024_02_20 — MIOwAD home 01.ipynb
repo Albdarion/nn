{
 "cells": [
  {
   "cell_type": "code",
   "execution_count": 83,
   "id": "ae5aa51c",
   "metadata": {},
   "outputs": [],
   "source": [
    "from math import exp\n",
    "import numpy as np\n",
    "import pandas as pd"
   ]
  },
  {
   "cell_type": "code",
   "execution_count": 72,
   "id": "09d3f908",
   "metadata": {},
   "outputs": [],
   "source": [
    "def sigma(x):\n",
    "    return 1 / (1 + exp(-x))\n",
    "\n",
    "npsigma = np.vectorize(sigma)"
   ]
  },
  {
   "cell_type": "code",
   "execution_count": 73,
   "id": "79cbe58c",
   "metadata": {},
   "outputs": [
    {
     "data": {
      "text/plain": [
       "0.5"
      ]
     },
     "execution_count": 73,
     "metadata": {},
     "output_type": "execute_result"
    }
   ],
   "source": [
    "sigma(0)"
   ]
  },
  {
   "cell_type": "code",
   "execution_count": 74,
   "id": "9eafcf5c",
   "metadata": {},
   "outputs": [
    {
     "data": {
      "text/plain": [
       "array([0.5       , 0.73105858, 0.88079708, 0.95257413])"
      ]
     },
     "execution_count": 74,
     "metadata": {},
     "output_type": "execute_result"
    }
   ],
   "source": [
    "npsigma(np.array([0, 1, 2, 3, ]))"
   ]
  },
  {
   "cell_type": "code",
   "execution_count": 75,
   "id": "55e0e74d",
   "metadata": {},
   "outputs": [],
   "source": [
    "class NueralNetwork:\n",
    "    __slots__ = ['layers_count', 'neural_nodes_count_per_layer', 'weights', 'bias', 'a_function']\n",
    "    \n",
    "    def __init__(self, p_layers_count, p_neural_nodes_count_per_layer, p_weights, p_bias, p_a_function):\n",
    "        self.layers_count = p_layers_count\n",
    "        self.neural_nodes_count_per_layer = p_neural_nodes_count_per_layer\n",
    "        self.weights = p_weights\n",
    "        self.bias = p_bias\n",
    "        self.a_function = p_a_function\n",
    "    \n",
    "    def calculate(self, p_input):\n",
    "        result = p_input\n",
    "        \n",
    "        for i in range(self.layers_count):\n",
    "            result = npsigma((result.T.dot(self.weights[i])).T + self.bias[i])\n",
    "            \n",
    "        return result"
   ]
  },
  {
   "cell_type": "code",
   "execution_count": 76,
   "id": "ac071cf3",
   "metadata": {},
   "outputs": [],
   "source": [
    "nn = NueralNetwork(2, # how many layers should be\n",
    "                   [2, 3], # how many nodes per layer should be\n",
    "                   [\n",
    "                       # matrix of weights for the first layer\n",
    "                       # number of rows corresponds to number of incoming parameters\n",
    "                       # number of columns corresponds to number of nodes in this layer\n",
    "                        np.array([\n",
    "                           [1, 2, ],\n",
    "                           [2, 3, ],\n",
    "                           [3, 4, ],\n",
    "                           [4, 5, ],\n",
    "                           [5, 6, ],\n",
    "                       ]),\n",
    "                       \n",
    "                       # matrix of weights for the second layer\n",
    "                       # number of rows corresponds to number of incoming parameters\n",
    "                       # number of columns corresponds to number of nodes in this layer\n",
    "                       np.array([\n",
    "                           [1, 1, 1, ],\n",
    "                           [1, 1, 1, ],\n",
    "                       ]),\n",
    "                   ], [\n",
    "                       np.array([[1, 1, ]]).T,\n",
    "                       np.array([[1, 1, 1, ]]).T,\n",
    "                   ], sigma)"
   ]
  },
  {
   "cell_type": "code",
   "execution_count": 77,
   "id": "d943f0f5",
   "metadata": {},
   "outputs": [
    {
     "data": {
      "text/plain": [
       "array([[0.95257384],\n",
       "       [0.95257384],\n",
       "       [0.95257384]])"
      ]
     },
     "execution_count": 77,
     "metadata": {},
     "output_type": "execute_result"
    }
   ],
   "source": [
    "nn.calculate(np.array([[0, 1, 0, 1, 1, ]]).T)"
   ]
  },
  {
   "cell_type": "code",
   "execution_count": 78,
   "id": "ea7f1b35",
   "metadata": {},
   "outputs": [],
   "source": [
    "nn2 = NueralNetwork(2, # how many layers should be\n",
    "                   [2, 1], # how many nodes per layer should be\n",
    "                   [\n",
    "                       # matrix of weights for the first layer\n",
    "                       # number of rows corresponds to number of incoming parameters\n",
    "                       # number of columns corresponds to number of nodes in this layer\n",
    "                        np.array([\n",
    "                           [1, 2, ],\n",
    "                           [2, 3, ],\n",
    "                       ]),\n",
    "                       \n",
    "                       # matrix of weights for the second layer\n",
    "                       # number of rows corresponds to number of incoming parameters (nodes in previous layer)\n",
    "                       # number of columns corresponds to number of nodes in this layer\n",
    "                       np.array([\n",
    "                           [1, ],\n",
    "                           [1, ],\n",
    "                       ]),\n",
    "                   ], [\n",
    "                       # vector of bias for the first layer\n",
    "                       # number of rows corresponds to number of nodes in this layer\n",
    "                       np.array([[1, 1, ]]).T,\n",
    "                       \n",
    "                       # vector of bias for the second layer\n",
    "                       # number of rows corresponds to number of nodes in this layer\n",
    "                       np.array([[1, ]]).T,\n",
    "                   ], \n",
    "                    sigma # activation function to be used in nodes\n",
    "                   )"
   ]
  },
  {
   "cell_type": "code",
   "execution_count": 79,
   "id": "ec1dc013",
   "metadata": {},
   "outputs": [
    {
     "data": {
      "text/plain": [
       "array([[0.94952999]])"
      ]
     },
     "execution_count": 79,
     "metadata": {},
     "output_type": "execute_result"
    }
   ],
   "source": [
    "nn2.calculate(np.array([[0, 1, ]]).T)"
   ]
  },
  {
   "cell_type": "code",
   "execution_count": 86,
   "id": "dab8c991",
   "metadata": {},
   "outputs": [],
   "source": [
    "df = pd.read_csv('mio1/regression/square-simple-training.csv', index_col=0)"
   ]
  },
  {
   "cell_type": "code",
   "execution_count": 92,
   "id": "d6a47dcb",
   "metadata": {},
   "outputs": [
    {
     "data": {
      "text/plain": [
       "<Axes: xlabel='x', ylabel='y'>"
      ]
     },
     "execution_count": 92,
     "metadata": {},
     "output_type": "execute_result"
    },
    {
     "data": {
      "image/png": "[encoded data removed]",
      "text/plain": [
       "<Figure size 640x480 with 1 Axes>"
      ]
     },
     "metadata": {},
     "output_type": "display_data"
    }
   ],
   "source": [
    "df.plot.scatter(x='x', y='y')"
   ]
  },
  {
   "cell_type": "code",
   "execution_count": 104,
   "id": "c7cc5c9e",
   "metadata": {},
   "outputs": [],
   "source": [
    "nn_solution = NueralNetwork(2, # how many layers should be\n",
    "                   [100, 100], # how many nodes per layer should be\n",
    "                   [\n",
    "                       # matrix of weights for the first layer\n",
    "                       # number of rows corresponds to number of incoming parameters\n",
    "                       # number of columns corresponds to number of nodes in this layer\n",
    "                        np.array([[1 for i in range(100) ] for _ in range(100)]),\n",
    "                       \n",
    "                       # matrix of weights for the second layer\n",
    "                       # number of rows corresponds to number of incoming parameters (nodes in previous layer)\n",
    "                       # number of columns corresponds to number of nodes in this layer\n",
    "                       np.array([[1 for i in range(100) ] for _ in range(100)]),\n",
    "                   ], [\n",
    "                       # vector of bias for the first layer\n",
    "                       # number of rows corresponds to number of nodes in this layer\n",
    "                       np.array([[1 for i in range(100) ]]).T,\n",
    "                       \n",
    "                       # vector of bias for the second layer\n",
    "                       # number of rows corresponds to number of nodes in this layer\n",
    "                       np.array([[1 for i in range(100) ]]).T,\n",
    "                   ], \n",
    "                    sigma # activation function to be used in nodes\n",
    "                   )"
   ]
  },
  {
   "cell_type": "code",
   "execution_count": 105,
   "id": "e5fa362e",
   "metadata": {},
   "outputs": [
    {
     "data": {
      "text/plain": [
       "array([[1.],\n",
       "       [1.],\n",
       "       [1.],\n",
       "       [1.],\n",
       "       [1.],\n",
       "       [1.],\n",
       "       [1.],\n",
       "       [1.],\n",
       "       [1.],\n",
       "       [1.],\n",
       "       [1.],\n",
       "       [1.],\n",
       "       [1.],\n",
       "       [1.],\n",
       "       [1.],\n",
       "       [1.],\n",
       "       [1.],\n",
       "       [1.],\n",
       "       [1.],\n",
       "       [1.],\n",
       "       [1.],\n",
       "       [1.],\n",
       "       [1.],\n",
       "       [1.],\n",
       "       [1.],\n",
       "       [1.],\n",
       "       [1.],\n",
       "       [1.],\n",
       "       [1.],\n",
       "       [1.],\n",
       "       [1.],\n",
       "       [1.],\n",
       "       [1.],\n",
       "       [1.],\n",
       "       [1.],\n",
       "       [1.],\n",
       "       [1.],\n",
       "       [1.],\n",
       "       [1.],\n",
       "       [1.],\n",
       "       [1.],\n",
       "       [1.],\n",
       "       [1.],\n",
       "       [1.],\n",
       "       [1.],\n",
       "       [1.],\n",
       "       [1.],\n",
       "       [1.],\n",
       "       [1.],\n",
       "       [1.],\n",
       "       [1.],\n",
       "       [1.],\n",
       "       [1.],\n",
       "       [1.],\n",
       "       [1.],\n",
       "       [1.],\n",
       "       [1.],\n",
       "       [1.],\n",
       "       [1.],\n",
       "       [1.],\n",
       "       [1.],\n",
       "       [1.],\n",
       "       [1.],\n",
       "       [1.],\n",
       "       [1.],\n",
       "       [1.],\n",
       "       [1.],\n",
       "       [1.],\n",
       "       [1.],\n",
       "       [1.],\n",
       "       [1.],\n",
       "       [1.],\n",
       "       [1.],\n",
       "       [1.],\n",
       "       [1.],\n",
       "       [1.],\n",
       "       [1.],\n",
       "       [1.],\n",
       "       [1.],\n",
       "       [1.],\n",
       "       [1.],\n",
       "       [1.],\n",
       "       [1.],\n",
       "       [1.],\n",
       "       [1.],\n",
       "       [1.],\n",
       "       [1.],\n",
       "       [1.],\n",
       "       [1.],\n",
       "       [1.],\n",
       "       [1.],\n",
       "       [1.],\n",
       "       [1.],\n",
       "       [1.],\n",
       "       [1.],\n",
       "       [1.],\n",
       "       [1.],\n",
       "       [1.],\n",
       "       [1.],\n",
       "       [1.]])"
      ]
     },
     "execution_count": 105,
     "metadata": {},
     "output_type": "execute_result"
    }
   ],
   "source": [
    "nn_solution.calculate(np.array([df.to_numpy()[:,0]]).T)"
   ]
  },
  {
   "cell_type": "code",
   "execution_count": null,
   "id": "d15441c0",
   "metadata": {},
   "outputs": [],
   "source": []
  }
 ],
 "metadata": {
  "kernelspec": {
   "display_name": "Python 3 (ipykernel)",
   "language": "python",
   "name": "python3"
  },
  "language_info": {
   "codemirror_mode": {
    "name": "ipython",
    "version": 3
   },
   "file_extension": ".py",
   "mimetype": "text/x-python",
   "name": "python",
   "nbconvert_exporter": "python",
   "pygments_lexer": "ipython3",
   "version": "3.11.5"
  }
 },
 "nbformat": 4,
 "nbformat_minor": 5
}
